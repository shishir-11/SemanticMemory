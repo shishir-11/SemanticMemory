{
 "cells": [
  {
   "cell_type": "markdown",
   "metadata": {},
   "source": [
    "Creating a basic structure of the Feature + Network Based Heirarchial Tree\n"
   ]
  },
  {
   "cell_type": "code",
   "execution_count": 29,
   "metadata": {},
   "outputs": [
    {
     "name": "stdout",
     "output_type": "stream",
     "text": [
      "- Animals (Features: {'have bones', 'have skin', 'walk'})\n",
      "  - Mammals (Features: {'no-eggs', 'lactate', 'hair'})\n",
      "  - Insects (Features: {'multi-lings', 'exoskeleton', 'eggs', 'fly'})\n",
      "  - Birds (Features: {'feathers', 'beaks', 'eggs', 'fly'})\n",
      "\n"
     ]
    }
   ],
   "source": [
    "class Node:\n",
    "    def __init__(self, name, features=None):\n",
    "        self.name = name\n",
    "        self.features = features if features else {}\n",
    "        self.children = []\n",
    "\n",
    "    def add_child(self, child_node):\n",
    "        self.children.append(child_node)\n",
    "\n",
    "    def __str__(self, level=0):\n",
    "        indent = \" \" * (level * 2)\n",
    "        node_str = f\"{indent}- {self.name}\"\n",
    "        if self.features:\n",
    "            node_str += f\" (Features: {self.features})\"\n",
    "        node_str += \"\\n\"\n",
    "        for child in self.children:\n",
    "            node_str += child.__str__(level + 1)\n",
    "        return node_str\n",
    "\n",
    "\n",
    "root = Node(\"Living Organisms\", {\"eat\", \"reproduce\", \"breathe\"})\n",
    "child1 = Node(\"Animals\", {\"walk\",\"have skin\", \"have bones\"})\n",
    "child2 = Node(\"Plants\", {\"photosynthesis\", \"roots\", \"leaves\"})\n",
    "subchild1 = Node(\"Mammals\", {\"hair\", \"lactate\", \"no-eggs\"})\n",
    "subchild2 = Node(\"Insects\", {\"exoskeleton\", \"fly\", \"multi-lings\", \"eggs\"})\n",
    "subchild3 = Node(\"Birds\", {\"fly\", \"beaks\", \"feathers\", \"eggs\"})\n",
    "subchild4 = Node(\"Flowers\", {\"petals\", \"fragrant\", \"shrubs\"})\n",
    "subchild5 = Node(\"Microbial\", {\"small\", \"naive-structure\"})\n",
    "subchild6 = Node(\"Trees\", {\"large\",\"bark\",\"shed\",\"wood\"})\n",
    "\n",
    "root.add_child(child1)\n",
    "root.add_child(child2)\n",
    "child1.add_child(subchild1)\n",
    "child1.add_child(subchild2)\n",
    "child1.add_child(subchild3)\n",
    "child2.add_child(subchild4)\n",
    "child2.add_child(subchild5)\n",
    "child2.add_child(subchild6)\n",
    "\n",
    "\n",
    "print(child1)\n"
   ]
  },
  {
   "cell_type": "markdown",
   "metadata": {},
   "source": [
    "Applying Natural Language Processing To Create List of Word Features\n",
    "(BAG OF WORDS MODEL)"
   ]
  },
  {
   "cell_type": "code",
   "execution_count": 11,
   "metadata": {},
   "outputs": [],
   "source": [
    "import numpy as np\n",
    "import matplotlib.pyplot as plt\n",
    "import pandas as pd"
   ]
  },
  {
   "cell_type": "code",
   "execution_count": 12,
   "metadata": {},
   "outputs": [
    {
     "data": {
      "text/html": [
       "<div>\n",
       "<style scoped>\n",
       "    .dataframe tbody tr th:only-of-type {\n",
       "        vertical-align: middle;\n",
       "    }\n",
       "\n",
       "    .dataframe tbody tr th {\n",
       "        vertical-align: top;\n",
       "    }\n",
       "\n",
       "    .dataframe thead th {\n",
       "        text-align: right;\n",
       "    }\n",
       "</style>\n",
       "<table border=\"1\" class=\"dataframe\">\n",
       "  <thead>\n",
       "    <tr style=\"text-align: right;\">\n",
       "      <th></th>\n",
       "      <th>BANYAN</th>\n",
       "      <th>\"ROSE\"</th>\n",
       "      <th>\"DOG\"</th>\n",
       "      <th>\"EAGLE\"</th>\n",
       "      <th>\"BUTTERFLY\"</th>\n",
       "      <th>Unnamed: 5</th>\n",
       "    </tr>\n",
       "  </thead>\n",
       "  <tbody>\n",
       "    <tr>\n",
       "      <th>0</th>\n",
       "      <td>\"Large Tree\"</td>\n",
       "      <td>\"Pink Petals\"</td>\n",
       "      <td>\"eats food\"</td>\n",
       "      <td>\"walks for food\"</td>\n",
       "      <td>\"typical exoskeleton\"</td>\n",
       "      <td>NaN</td>\n",
       "    </tr>\n",
       "    <tr>\n",
       "      <th>1</th>\n",
       "      <td>\"Strong Bark\"</td>\n",
       "      <td>\"Photosynthesis in daytime\"</td>\n",
       "      <td>\"breathes rapidly\"</td>\n",
       "      <td>\"flies high\"</td>\n",
       "      <td>\"fly all around\"</td>\n",
       "      <td>NaN</td>\n",
       "    </tr>\n",
       "    <tr>\n",
       "      <th>2</th>\n",
       "      <td>\"Multiple Barks\"</td>\n",
       "      <td>\"Awesome Fragrance\"</td>\n",
       "      <td>\"reproduces pups\"</td>\n",
       "      <td>\"big beak\"</td>\n",
       "      <td>\"breathes flower air\"</td>\n",
       "      <td>NaN</td>\n",
       "    </tr>\n",
       "    <tr>\n",
       "      <th>3</th>\n",
       "      <td>\"Hanging Roots\"</td>\n",
       "      <td>\"Red Petals\"</td>\n",
       "      <td>\"has hair\"</td>\n",
       "      <td>\"superior feathers\"</td>\n",
       "      <td>\"produces eggs\"</td>\n",
       "      <td>NaN</td>\n",
       "    </tr>\n",
       "    <tr>\n",
       "      <th>4</th>\n",
       "      <td>\"Big Leaves\"</td>\n",
       "      <td>\"Leaves are Pointy\"</td>\n",
       "      <td>\"walks daily\"</td>\n",
       "      <td>\"reproduces by eggs\"</td>\n",
       "      <td>\"has multi-lings\"</td>\n",
       "      <td>NaN</td>\n",
       "    </tr>\n",
       "    <tr>\n",
       "      <th>5</th>\n",
       "      <td>\"Spreads Big\"</td>\n",
       "      <td>\"Thorns\"</td>\n",
       "      <td>\"Licks when happy\"</td>\n",
       "      <td>\"breathes through beak\"</td>\n",
       "      <td>\"bones make up exoskeleton\"</td>\n",
       "      <td>NaN</td>\n",
       "    </tr>\n",
       "    <tr>\n",
       "      <th>6</th>\n",
       "      <td>\"Provides Shed\"</td>\n",
       "      <td>\"Is a shrub\"</td>\n",
       "      <td>\"Eats full time\"</td>\n",
       "      <td>\"eats non-veg\"</td>\n",
       "      <td>\"reproduce frequently\"</td>\n",
       "      <td>NaN</td>\n",
       "    </tr>\n",
       "    <tr>\n",
       "      <th>7</th>\n",
       "      <td>\"Cannot Move\"</td>\n",
       "      <td>\"performs Photosynthesis\"</td>\n",
       "      <td>\"hair is fluffy\"</td>\n",
       "      <td>\"Territorial Birds\"</td>\n",
       "      <td>\"Eat flower nectar\"</td>\n",
       "      <td>NaN</td>\n",
       "    </tr>\n",
       "    <tr>\n",
       "      <th>8</th>\n",
       "      <td>\"Large Roots\"</td>\n",
       "      <td>\"found in gardens\"</td>\n",
       "      <td>\"loves bones\"</td>\n",
       "      <td>\"skin belo feathers\"</td>\n",
       "      <td>\"Beautiful\"</td>\n",
       "      <td>NaN</td>\n",
       "    </tr>\n",
       "    <tr>\n",
       "      <th>9</th>\n",
       "      <td>\"Strong wood\"</td>\n",
       "      <td>\"Low maintenance\"</td>\n",
       "      <td>\"best companion\"</td>\n",
       "      <td>\"have hollow bones\"</td>\n",
       "      <td>\"walks sometimes\"</td>\n",
       "      <td>NaN</td>\n",
       "    </tr>\n",
       "  </tbody>\n",
       "</table>\n",
       "</div>"
      ],
      "text/plain": [
       "                 BANYAN                        \"ROSE\"                \"DOG\"  \\\n",
       "0          \"Large Tree\"                 \"Pink Petals\"          \"eats food\"   \n",
       "1         \"Strong Bark\"   \"Photosynthesis in daytime\"   \"breathes rapidly\"   \n",
       "2      \"Multiple Barks\"           \"Awesome Fragrance\"    \"reproduces pups\"   \n",
       "3       \"Hanging Roots\"                  \"Red Petals\"           \"has hair\"   \n",
       "4          \"Big Leaves\"           \"Leaves are Pointy\"        \"walks daily\"   \n",
       "5         \"Spreads Big\"                      \"Thorns\"   \"Licks when happy\"   \n",
       "6       \"Provides Shed\"                  \"Is a shrub\"     \"Eats full time\"   \n",
       "7         \"Cannot Move\"     \"performs Photosynthesis\"     \"hair is fluffy\"   \n",
       "8         \"Large Roots\"            \"found in gardens\"        \"loves bones\"   \n",
       "9         \"Strong wood\"             \"Low maintenance\"     \"best companion\"   \n",
       "\n",
       "                    \"EAGLE\"                   \"BUTTERFLY\"  Unnamed: 5  \n",
       "0          \"walks for food\"         \"typical exoskeleton\"         NaN  \n",
       "1              \"flies high\"              \"fly all around\"         NaN  \n",
       "2                \"big beak\"         \"breathes flower air\"         NaN  \n",
       "3       \"superior feathers\"               \"produces eggs\"         NaN  \n",
       "4      \"reproduces by eggs\"             \"has multi-lings\"         NaN  \n",
       "5   \"breathes through beak\"   \"bones make up exoskeleton\"         NaN  \n",
       "6            \"eats non-veg\"        \"reproduce frequently\"         NaN  \n",
       "7       \"Territorial Birds\"           \"Eat flower nectar\"         NaN  \n",
       "8      \"skin belo feathers\"                   \"Beautiful\"         NaN  \n",
       "9       \"have hollow bones\"             \"walks sometimes\"         NaN  "
      ]
     },
     "execution_count": 12,
     "metadata": {},
     "output_type": "execute_result"
    }
   ],
   "source": [
    "dataset = pd.read_csv('data.csv')\n",
    "dataset"
   ]
  },
  {
   "cell_type": "code",
   "execution_count": 23,
   "metadata": {},
   "outputs": [
    {
     "name": "stdout",
     "output_type": "stream",
     "text": [
      "['large', 'tree']\n",
      "['strong', 'bark']\n",
      "['multiple', 'barks']\n",
      "['hanging', 'roots']\n",
      "['big', 'leaves']\n",
      "['spreads', 'big']\n",
      "['provides', 'shed']\n",
      "['cannot', 'move']\n",
      "['large', 'roots']\n"
     ]
    },
    {
     "name": "stderr",
     "output_type": "stream",
     "text": [
      "[nltk_data] Downloading package stopwords to\n",
      "[nltk_data]     /home/codespace/nltk_data...\n",
      "[nltk_data]   Package stopwords is already up-to-date!\n"
     ]
    }
   ],
   "source": [
    "import re\n",
    "import nltk\n",
    "nltk.download('stopwords')\n",
    "from nltk.corpus import stopwords\n",
    "corpus = []\n",
    "for i in range(0, 9):\n",
    "  review = re.sub('[^a-zA-Z]', ' ', dataset['BANYAN'][i])\n",
    "  review = review.lower()\n",
    "  review = review.split()\n",
    "  print(review)\n",
    "  all_stopwords = stopwords.words('english')\n",
    "  all_stopwords.remove('not')\n",
    "  review = [word for word in review if not word in set(all_stopwords)]\n",
    "  review = ' '.join(review)\n",
    "  corpus.append(review)\n"
   ]
  },
  {
   "cell_type": "code",
   "execution_count": 24,
   "metadata": {},
   "outputs": [
    {
     "name": "stdout",
     "output_type": "stream",
     "text": [
      "['large tree', 'strong bark', 'multiple barks', 'hanging roots', 'big leaves', 'spreads big', 'provides shed', 'cannot move', 'large roots']\n"
     ]
    }
   ],
   "source": [
    "print(corpus)"
   ]
  },
  {
   "cell_type": "markdown",
   "metadata": {},
   "source": [
    "Bag Of Features"
   ]
  },
  {
   "cell_type": "code",
   "execution_count": 28,
   "metadata": {},
   "outputs": [
    {
     "name": "stdout",
     "output_type": "stream",
     "text": [
      "['bark' 'barks' 'big' 'cannot' 'hanging' 'large' 'leaves' 'move'\n",
      " 'multiple' 'provides' 'roots' 'shed' 'spreads' 'strong' 'tree']\n"
     ]
    }
   ],
   "source": [
    "from sklearn.feature_extraction.text import CountVectorizer\n",
    "cv = CountVectorizer(max_features = 1500)\n",
    "X = cv.fit_transform(corpus)\n",
    "print(cv.get_feature_names_out())"
   ]
  },
  {
   "cell_type": "markdown",
   "metadata": {},
   "source": [
    "Checking Relation in leaf nodes"
   ]
  },
  {
   "cell_type": "code",
   "execution_count": null,
   "metadata": {},
   "outputs": [],
   "source": []
  }
 ],
 "metadata": {
  "kernelspec": {
   "display_name": "Python 3",
   "language": "python",
   "name": "python3"
  },
  "language_info": {
   "codemirror_mode": {
    "name": "ipython",
    "version": 3
   },
   "file_extension": ".py",
   "mimetype": "text/x-python",
   "name": "python",
   "nbconvert_exporter": "python",
   "pygments_lexer": "ipython3",
   "version": "3.10.8"
  },
  "orig_nbformat": 4
 },
 "nbformat": 4,
 "nbformat_minor": 2
}
