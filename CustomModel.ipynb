{
 "cells": [
  {
   "cell_type": "markdown",
   "metadata": {},
   "source": [
    "Importing Important Libararies"
   ]
  },
  {
   "cell_type": "code",
   "execution_count": 29,
   "metadata": {},
   "outputs": [],
   "source": [
    "import networkx as nx\n",
    "import pandas as pd\n",
    "import numpy as np\n",
    "import matplotlib.pyplot as plt"
   ]
  },
  {
   "cell_type": "markdown",
   "metadata": {},
   "source": [
    "Creating a Basic Nodal Structure and Priority Queue\n",
    "\n"
   ]
  },
  {
   "cell_type": "code",
   "execution_count": 30,
   "metadata": {},
   "outputs": [],
   "source": [
    "import heapq\n",
    "\n",
    "class PriorityQueue:\n",
    "    def __init__(self):\n",
    "        self.elements = []\n",
    "\n",
    "    def push(self, item, priority):\n",
    "        heapq.heappush(self.elements, (priority, item))\n",
    "\n",
    "    def pop(self):\n",
    "        if not self.is_empty():\n",
    "            return heapq.heappop(self.elements)[1]\n",
    "        else:\n",
    "            raise IndexError(\"Priority queue is empty\")\n",
    "\n",
    "    def is_empty(self):\n",
    "        return len(self.elements) == 0"
   ]
  },
  {
   "cell_type": "code",
   "execution_count": 31,
   "metadata": {},
   "outputs": [],
   "source": [
    "obs = []"
   ]
  },
  {
   "cell_type": "code",
   "execution_count": 32,
   "metadata": {},
   "outputs": [],
   "source": [
    "G = nx.DiGraph()\n",
    "\n",
    "class Node:\n",
    "    level = 0\n",
    "    children =[]\n",
    "    \n",
    "    def __init__(self,name):\n",
    "        self.name = name\n",
    "        G.add_node(self.name)\n",
    "        \n",
    "    def setChars(self,charsketch):\n",
    "        self.characterstic = [x for x in charsketch ] \n",
    "    \n",
    "    \n",
    "    def setParent(self,Parent):\n",
    "        self.level = Parent.level + 1\n",
    "        self.parent = Parent\n",
    "        G.add_edge(self.parent.name,self.name)\n",
    "        self.parent.setChild(self)\n",
    "        if self.level > len(obs):\n",
    "            obs.append([self])\n",
    "        else:\n",
    "            obs[self.level-1].append(self)\n",
    "    \n",
    "    def setChild(self,child):\n",
    "        self.children.append(child)"
   ]
  },
  {
   "cell_type": "markdown",
   "metadata": {},
   "source": [
    "Adding Features and Nodes\n"
   ]
  },
  {
   "cell_type": "code",
   "execution_count": 33,
   "metadata": {},
   "outputs": [
    {
     "data": {
      "image/png": "[encoded data removed]",
      "text/plain": [
       "<Figure size 640x480 with 1 Axes>"
      ]
     },
     "metadata": {},
     "output_type": "display_data"
    },
    {
     "name": "stdout",
     "output_type": "stream",
     "text": [
      "[[<__main__.Node object at 0x7f2638c8bc10>, <__main__.Node object at 0x7f2638c8ada0>], [<__main__.Node object at 0x7f2638e13df0>, <__main__.Node object at 0x7f2638c8be50>]]\n"
     ]
    }
   ],
   "source": [
    "Animal = Node('Animal')\n",
    "Bird = Node('Bird')\n",
    "Bird.setParent(Animal)     \n",
    "Animal.setChars(['Living','Reproduce','Eat','Survive'])\n",
    "Bird.setChars(['Fly','Have Feathers','Chirp'])\n",
    "Mammals = Node('Mammals')\n",
    "Mammals.setParent(Animal)\n",
    "Mammals.setChars(['Have Fur','Produce Milk','Give Birth to Children'])\n",
    "Canary = Node('Canary')\n",
    "Canary.setParent(Bird)\n",
    "Canary.setChars(['Yellow' , \"beautiful\" , 'Light'])\n",
    "Bat = Node('Bat')\n",
    "Bat.setParent(Mammals)\n",
    "Bat.setChars(['Nightime' ,'Can fly' , 'Detects objects via Sound'])\n",
    "\n",
    "nx.draw(G, with_labels=True, node_color='lightblue', font_weight='bold', node_size=800)\n",
    "plt.show()\n",
    "print(obs)\n"
   ]
  },
  {
   "cell_type": "markdown",
   "metadata": {},
   "source": [
    "Checking for a new Category\n"
   ]
  },
  {
   "cell_type": "code",
   "execution_count": 40,
   "metadata": {},
   "outputs": [
    {
     "data": {
      "text/html": [
       "<div>\n",
       "<style scoped>\n",
       "    .dataframe tbody tr th:only-of-type {\n",
       "        vertical-align: middle;\n",
       "    }\n",
       "\n",
       "    .dataframe tbody tr th {\n",
       "        vertical-align: top;\n",
       "    }\n",
       "\n",
       "    .dataframe thead th {\n",
       "        text-align: right;\n",
       "    }\n",
       "</style>\n",
       "<table border=\"1\" class=\"dataframe\">\n",
       "  <thead>\n",
       "    <tr style=\"text-align: right;\">\n",
       "      <th></th>\n",
       "      <th>0</th>\n",
       "      <th>Label0</th>\n",
       "      <th>Label1</th>\n",
       "      <th>Label2</th>\n",
       "    </tr>\n",
       "  </thead>\n",
       "  <tbody>\n",
       "    <tr>\n",
       "      <th>0</th>\n",
       "      <td>Yellow</td>\n",
       "      <td>Canary</td>\n",
       "      <td>Bird</td>\n",
       "      <td>Animal</td>\n",
       "    </tr>\n",
       "    <tr>\n",
       "      <th>1</th>\n",
       "      <td>beautiful</td>\n",
       "      <td>Canary</td>\n",
       "      <td>Bird</td>\n",
       "      <td>Animal</td>\n",
       "    </tr>\n",
       "    <tr>\n",
       "      <th>2</th>\n",
       "      <td>Light</td>\n",
       "      <td>Canary</td>\n",
       "      <td>Bird</td>\n",
       "      <td>Animal</td>\n",
       "    </tr>\n",
       "    <tr>\n",
       "      <th>3</th>\n",
       "      <td>Nightime</td>\n",
       "      <td>Bat</td>\n",
       "      <td>Mammals</td>\n",
       "      <td>Animal</td>\n",
       "    </tr>\n",
       "    <tr>\n",
       "      <th>4</th>\n",
       "      <td>Can fly</td>\n",
       "      <td>Bat</td>\n",
       "      <td>Mammals</td>\n",
       "      <td>Animal</td>\n",
       "    </tr>\n",
       "    <tr>\n",
       "      <th>5</th>\n",
       "      <td>Detects objects via Sound</td>\n",
       "      <td>Bat</td>\n",
       "      <td>Mammals</td>\n",
       "      <td>Animal</td>\n",
       "    </tr>\n",
       "  </tbody>\n",
       "</table>\n",
       "</div>"
      ],
      "text/plain": [
       "                           0  Label0   Label1  Label2\n",
       "0                     Yellow  Canary     Bird  Animal\n",
       "1                  beautiful  Canary     Bird  Animal\n",
       "2                      Light  Canary     Bird  Animal\n",
       "3                   Nightime     Bat  Mammals  Animal\n",
       "4                    Can fly     Bat  Mammals  Animal\n",
       "5  Detects objects via Sound     Bat  Mammals  Animal"
      ]
     },
     "execution_count": 40,
     "metadata": {},
     "output_type": "execute_result"
    }
   ],
   "source": [
    "ip = ['Ostrich has feathers But it cannot fly ']\n",
    "\n",
    "cat = input(\"Category\")\n",
    "for j in range(0,len(obs)):\n",
    "    for o in obs[j]:\n",
    "        if o.name == cat:\n",
    "            break\n",
    "\n",
    "\n",
    "b = pd.DataFrame()\n",
    "for node in obs[j]:\n",
    "    p = node\n",
    "    a= pd.DataFrame(node.characterstic)\n",
    "    for i in range(0,j+1):\n",
    "        \n",
    "        a[f'Label{i}'] = p.name\n",
    "        p = p.parent\n",
    "        \n",
    "    b= pd.concat([b,a],axis=0,ignore_index=True)\n",
    "    b[f'Label{i+1}'] = p.name\n",
    "b"
   ]
  },
  {
   "cell_type": "code",
   "execution_count": 35,
   "metadata": {},
   "outputs": [
    {
     "data": {
      "text/html": [
       "<div>\n",
       "<style scoped>\n",
       "    .dataframe tbody tr th:only-of-type {\n",
       "        vertical-align: middle;\n",
       "    }\n",
       "\n",
       "    .dataframe tbody tr th {\n",
       "        vertical-align: top;\n",
       "    }\n",
       "\n",
       "    .dataframe thead th {\n",
       "        text-align: right;\n",
       "    }\n",
       "</style>\n",
       "<table border=\"1\" class=\"dataframe\">\n",
       "  <thead>\n",
       "    <tr style=\"text-align: right;\">\n",
       "      <th></th>\n",
       "      <th>0</th>\n",
       "      <th>Label1</th>\n",
       "    </tr>\n",
       "  </thead>\n",
       "  <tbody>\n",
       "    <tr>\n",
       "      <th>0</th>\n",
       "      <td>Fly</td>\n",
       "      <td>Bird</td>\n",
       "    </tr>\n",
       "    <tr>\n",
       "      <th>1</th>\n",
       "      <td>Have Feathers</td>\n",
       "      <td>Bird</td>\n",
       "    </tr>\n",
       "    <tr>\n",
       "      <th>2</th>\n",
       "      <td>Chirp</td>\n",
       "      <td>Bird</td>\n",
       "    </tr>\n",
       "  </tbody>\n",
       "</table>\n",
       "</div>"
      ],
      "text/plain": [
       "               0 Label1\n",
       "0            Fly   Bird\n",
       "1  Have Feathers   Bird\n",
       "2          Chirp   Bird"
      ]
     },
     "execution_count": 35,
     "metadata": {},
     "output_type": "execute_result"
    }
   ],
   "source": [
    "a= pd.DataFrame(Bird.characterstic)\n",
    "a[f'Label{Bird.level}'] = Bird.name\n",
    "a"
   ]
  },
  {
   "cell_type": "code",
   "execution_count": 36,
   "metadata": {},
   "outputs": [
    {
     "data": {
      "text/html": [
       "<div>\n",
       "<style scoped>\n",
       "    .dataframe tbody tr th:only-of-type {\n",
       "        vertical-align: middle;\n",
       "    }\n",
       "\n",
       "    .dataframe tbody tr th {\n",
       "        vertical-align: top;\n",
       "    }\n",
       "\n",
       "    .dataframe thead th {\n",
       "        text-align: right;\n",
       "    }\n",
       "</style>\n",
       "<table border=\"1\" class=\"dataframe\">\n",
       "  <thead>\n",
       "    <tr style=\"text-align: right;\">\n",
       "      <th></th>\n",
       "      <th>0</th>\n",
       "      <th>Label1</th>\n",
       "    </tr>\n",
       "  </thead>\n",
       "  <tbody>\n",
       "    <tr>\n",
       "      <th>0</th>\n",
       "      <td>Have Fur</td>\n",
       "      <td>Mammals</td>\n",
       "    </tr>\n",
       "    <tr>\n",
       "      <th>1</th>\n",
       "      <td>Produce Milk</td>\n",
       "      <td>Mammals</td>\n",
       "    </tr>\n",
       "    <tr>\n",
       "      <th>2</th>\n",
       "      <td>Give Birth to Children</td>\n",
       "      <td>Mammals</td>\n",
       "    </tr>\n",
       "  </tbody>\n",
       "</table>\n",
       "</div>"
      ],
      "text/plain": [
       "                        0   Label1\n",
       "0                Have Fur  Mammals\n",
       "1            Produce Milk  Mammals\n",
       "2  Give Birth to Children  Mammals"
      ]
     },
     "execution_count": 36,
     "metadata": {},
     "output_type": "execute_result"
    }
   ],
   "source": [
    "b= pd.DataFrame(Mammals.characterstic)\n",
    "b[f'Label{Mammals.level}'] = Mammals.name\n",
    "b"
   ]
  },
  {
   "cell_type": "code",
   "execution_count": 37,
   "metadata": {},
   "outputs": [],
   "source": [
    "x= pd.concat([a,b],axis=0,ignore_index=True)"
   ]
  },
  {
   "cell_type": "code",
   "execution_count": 38,
   "metadata": {},
   "outputs": [
    {
     "data": {
      "text/plain": [
       "0                          Fly,Bird\n",
       "1                Have Feathers,Bird\n",
       "2                        Chirp,Bird\n",
       "3                  Have Fur,Mammals\n",
       "4              Produce Milk,Mammals\n",
       "5    Give Birth to Children,Mammals\n",
       "dtype: object"
      ]
     },
     "execution_count": 38,
     "metadata": {},
     "output_type": "execute_result"
    }
   ],
   "source": [
    "x[0]+','+x['Label1']"
   ]
  }
 ],
 "metadata": {
  "kernelspec": {
   "display_name": "Python 3",
   "language": "python",
   "name": "python3"
  },
  "language_info": {
   "codemirror_mode": {
    "name": "ipython",
    "version": 3
   },
   "file_extension": ".py",
   "mimetype": "text/x-python",
   "name": "python",
   "nbconvert_exporter": "python",
   "pygments_lexer": "ipython3",
   "version": "3.10.8"
  },
  "orig_nbformat": 4
 },
 "nbformat": 4,
 "nbformat_minor": 2
}
