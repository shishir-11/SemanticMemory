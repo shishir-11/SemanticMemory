{
 "cells": [
  {
   "cell_type": "markdown",
   "metadata": {},
   "source": [
    "Importing the Libraries"
   ]
  },
  {
   "cell_type": "code",
   "execution_count": 1,
   "metadata": {},
   "outputs": [],
   "source": [
    "import numpy as np"
   ]
  },
  {
   "cell_type": "markdown",
   "metadata": {},
   "source": [
    "\n",
    "Define a list of concepts and their corresponding feature vectors"
   ]
  },
  {
   "cell_type": "code",
   "execution_count": 2,
   "metadata": {},
   "outputs": [],
   "source": [
    "concepts = {\n",
    "    \"apple\": [0.8, 0.9, 0.2],\n",
    "    \"fruit\": [0.7, 0.8, 0.1],\n",
    "    \"banana\": [0.75, 0.85, 0.15],\n",
    "    \"yellow\": [0.1, 0.1, 0.9],\n",
    "    \"vehicle\": [0.2, 0.3, 0.7],\n",
    "    \"car\": [0.25, 0.35, 0.65]\n",
    "}"
   ]
  },
  {
   "cell_type": "markdown",
   "metadata": {},
   "source": [
    "Function to compute the cosine similarity between two feature vectors"
   ]
  },
  {
   "cell_type": "code",
   "execution_count": 3,
   "metadata": {},
   "outputs": [],
   "source": [
    "def cosine_similarity(vec1, vec2):\n",
    "    dot_product = np.dot(vec1, vec2)\n",
    "    norm1 = np.linalg.norm(vec1)\n",
    "    norm2 = np.linalg.norm(vec2)\n",
    "    similarity = dot_product / (norm1 * norm2)\n",
    "    return similarity"
   ]
  },
  {
   "cell_type": "markdown",
   "metadata": {},
   "source": [
    "Function to find the most similar concepts to a given concept"
   ]
  },
  {
   "cell_type": "code",
   "execution_count": 4,
   "metadata": {},
   "outputs": [],
   "source": [
    "def find_similar_concepts(query_concept, concepts):\n",
    "    similarities = {}\n",
    "    query_vector = concepts[query_concept]\n",
    "    for concept, vector in concepts.items():\n",
    "        if concept != query_concept:\n",
    "            similarity = cosine_similarity(query_vector, vector)\n",
    "            similarities[concept] = similarity\n",
    "    return similarities"
   ]
  },
  {
   "cell_type": "markdown",
   "metadata": {},
   "source": [
    "Query the semantic memory"
   ]
  },
  {
   "cell_type": "code",
   "execution_count": 5,
   "metadata": {},
   "outputs": [],
   "source": [
    "query_word = \"banana\"\n",
    "similarities = find_similar_concepts(query_word, concepts)"
   ]
  },
  {
   "cell_type": "markdown",
   "metadata": {},
   "source": [
    "Sort and print the most similar concepts"
   ]
  },
  {
   "cell_type": "code",
   "execution_count": 6,
   "metadata": {},
   "outputs": [
    {
     "name": "stdout",
     "output_type": "stream",
     "text": [
      "Concepts similar to 'banana':\n",
      "apple: 1.00\n",
      "fruit: 1.00\n",
      "car: 0.65\n",
      "vehicle: 0.57\n",
      "yellow: 0.28\n"
     ]
    }
   ],
   "source": [
    "sorted_similarities = sorted(similarities.items(), key=lambda x: x[1], reverse=True)\n",
    "print(f\"Concepts similar to '{query_word}':\")\n",
    "for concept, similarity in sorted_similarities:\n",
    "    print(f\"{concept}: {similarity:.2f}\")"
   ]
  }
 ],
 "metadata": {
  "kernelspec": {
   "display_name": "Python 3",
   "language": "python",
   "name": "python3"
  },
  "language_info": {
   "codemirror_mode": {
    "name": "ipython",
    "version": 3
   },
   "file_extension": ".py",
   "mimetype": "text/x-python",
   "name": "python",
   "nbconvert_exporter": "python",
   "pygments_lexer": "ipython3",
   "version": "3.10.8"
  },
  "orig_nbformat": 4
 },
 "nbformat": 4,
 "nbformat_minor": 2
}
